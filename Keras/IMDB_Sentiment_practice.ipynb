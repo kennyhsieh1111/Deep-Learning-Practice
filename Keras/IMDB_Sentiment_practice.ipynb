{
  "nbformat": 4,
  "nbformat_minor": 0,
  "metadata": {
    "colab": {
      "name": "IMDB_Sentiment_practice.ipynb",
      "version": "0.3.2",
      "views": {},
      "default_view": {},
      "provenance": []
    },
    "kernelspec": {
      "name": "python3",
      "display_name": "Python 3"
    },
    "accelerator": "GPU"
  },
  "cells": [
    {
      "metadata": {
        "id": "jF42zGpON6d_",
        "colab_type": "text"
      },
      "cell_type": "markdown",
      "source": [
        "IMDB Movie Comments Sentiment Analysis Practice\n",
        "===\n",
        "Kenny Hsieh, 2018/3/15\n",
        "\n",
        "- Construct MLP, RNN, LSTM Model to overcome the task\n",
        "\n",
        "## Download the IMDB Dataset"
      ]
    },
    {
      "metadata": {
        "id": "HnXGCJSVismI",
        "colab_type": "code",
        "colab": {
          "autoexec": {
            "startup": false,
            "wait_interval": 0
          },
          "output_extras": [
            {
              "item_id": 1
            }
          ],
          "base_uri": "https://localhost:8080/",
          "height": 34
        },
        "outputId": "40d7ef6c-6124-4b93-bec0-aae2927202cc",
        "executionInfo": {
          "status": "ok",
          "timestamp": 1521639849292,
          "user_tz": -480,
          "elapsed": 30292,
          "user": {
            "displayName": "Kenny Hsieh",
            "photoUrl": "//lh6.googleusercontent.com/-cWWSIkjl7Eo/AAAAAAAAAAI/AAAAAAAA86s/jURqY4aeDO0/s50-c-k-no/photo.jpg",
            "userId": "106741566483718677044"
          }
        }
      },
      "cell_type": "code",
      "source": [
        "import urllib.request\n",
        "import os\n",
        "import tarfile\n",
        "\n",
        "url = \"http://ai.stanford.edu/~amaas/data/sentiment/aclImdb_v1.tar.gz\"\n",
        "filepath = \"daclImdb_v1.tar.gz\"\n",
        "if not os.path.isfile(filepath): \n",
        "  response = urllib.request.urlretrieve(url, filepath)\n",
        "  print(\"Downloaded : \", response)\n",
        "  \n",
        "tfile = tarfile.open(\"daclImdb_v1.tar.gz\", 'r:gz')\n",
        "result = tfile.extractall()"
      ],
      "execution_count": 1,
      "outputs": [
        {
          "output_type": "stream",
          "text": [
            "Downloaded :  ('daclImdb_v1.tar.gz', <http.client.HTTPMessage object at 0x7fbe89265b38>)\n"
          ],
          "name": "stdout"
        }
      ]
    },
    {
      "metadata": {
        "id": "dL-LfdeltLei",
        "colab_type": "code",
        "colab": {
          "autoexec": {
            "startup": false,
            "wait_interval": 0
          },
          "output_extras": [
            {
              "item_id": 1
            }
          ],
          "base_uri": "https://localhost:8080/",
          "height": 85
        },
        "outputId": "2feb7498-fe0b-4d37-b52e-5ed3604aa5d8",
        "executionInfo": {
          "status": "ok",
          "timestamp": 1521639850759,
          "user_tz": -480,
          "elapsed": 1419,
          "user": {
            "displayName": "Kenny Hsieh",
            "photoUrl": "//lh6.googleusercontent.com/-cWWSIkjl7Eo/AAAAAAAAAAI/AAAAAAAA86s/jURqY4aeDO0/s50-c-k-no/photo.jpg",
            "userId": "106741566483718677044"
          }
        }
      },
      "cell_type": "code",
      "source": [
        "!ls -ls"
      ],
      "execution_count": 2,
      "outputs": [
        {
          "output_type": "stream",
          "text": [
            "total 82164\r\n",
            "    4 drwxr-xr-x 4 7297 1000     4096 Jun 26  2011 aclImdb\r\n",
            "82156 -rw-r--r-- 1 root root 84125825 Mar 21 13:43 daclImdb_v1.tar.gz\r\n",
            "    4 drwxr-xr-x 1 root root     4096 Mar 21 13:42 datalab\r\n"
          ],
          "name": "stdout"
        }
      ]
    },
    {
      "metadata": {
        "id": "8kFplrnsP1PA",
        "colab_type": "text"
      },
      "cell_type": "markdown",
      "source": [
        "## Data Preprocessing : Remove the html Tag"
      ]
    },
    {
      "metadata": {
        "id": "FHFBT8rXkOeq",
        "colab_type": "code",
        "colab": {
          "autoexec": {
            "startup": false,
            "wait_interval": 0
          },
          "output_extras": [
            {
              "item_id": 1
            }
          ],
          "base_uri": "https://localhost:8080/",
          "height": 34
        },
        "outputId": "f0351235-a632-4286-9e7a-fa08732d8316",
        "executionInfo": {
          "status": "ok",
          "timestamp": 1521639858259,
          "user_tz": -480,
          "elapsed": 7168,
          "user": {
            "displayName": "Kenny Hsieh",
            "photoUrl": "//lh6.googleusercontent.com/-cWWSIkjl7Eo/AAAAAAAAAAI/AAAAAAAA86s/jURqY4aeDO0/s50-c-k-no/photo.jpg",
            "userId": "106741566483718677044"
          }
        }
      },
      "cell_type": "code",
      "source": [
        "from keras.preprocessing import sequence\n",
        "from keras.preprocessing.text import Tokenizer\n",
        "\n",
        "import re\n",
        "def rm_tags(text):\n",
        "  re_tag = re.compile(r'<[^>]+>')\n",
        "  return re_tag.sub(\"\", text)\n",
        "\n",
        "import os\n",
        "def read_files(filetype):\n",
        "  path = \"aclImdb/\"\n",
        "  file_list = []\n",
        "  \n",
        "  positive_path = path + filetype + \"/pos/\"\n",
        "  for f in os.listdir(positive_path):\n",
        "    file_list += [positive_path + f]\n",
        "    \n",
        "  negative_path = path + filetype + \"/neg/\"\n",
        "  for f in os.listdir(negative_path):\n",
        "    file_list += [negative_path + f]\n",
        "    \n",
        "  print(\"Read\", filetype, 'files :', len(file_list))\n",
        "  \n",
        "  all_labels = ([1] * 12500 + [0] * 12500)\n",
        "  all_texts = []\n",
        "  for fi in file_list:\n",
        "    with open(fi, encoding = 'utf-8') as file_input:\n",
        "      all_texts += [rm_tags(\"\".join(file_input.readlines()))]\n",
        "      \n",
        "  return all_labels, all_texts"
      ],
      "execution_count": 3,
      "outputs": [
        {
          "output_type": "stream",
          "text": [
            "Using TensorFlow backend.\n"
          ],
          "name": "stderr"
        }
      ]
    },
    {
      "metadata": {
        "id": "UunWeoWNpUWJ",
        "colab_type": "code",
        "colab": {
          "autoexec": {
            "startup": false,
            "wait_interval": 0
          },
          "output_extras": [
            {
              "item_id": 3
            }
          ],
          "base_uri": "https://localhost:8080/",
          "height": 105
        },
        "outputId": "228ce67f-4cc7-4ca0-e5fe-ad0ccf1257f7",
        "executionInfo": {
          "status": "ok",
          "timestamp": 1521639860671,
          "user_tz": -480,
          "elapsed": 2376,
          "user": {
            "displayName": "Kenny Hsieh",
            "photoUrl": "//lh6.googleusercontent.com/-cWWSIkjl7Eo/AAAAAAAAAAI/AAAAAAAA86s/jURqY4aeDO0/s50-c-k-no/photo.jpg",
            "userId": "106741566483718677044"
          }
        }
      },
      "cell_type": "code",
      "source": [
        "y_train, train_text = read_files(\"train\")\n",
        "y_test, test_text = read_files(\"test\")\n",
        "\n",
        "print(\"Label : \", y_train[0])\n",
        "print(\"Context : \", train_text[0])"
      ],
      "execution_count": 4,
      "outputs": [
        {
          "output_type": "stream",
          "text": [
            "Read train files : 25000\n",
            "Read test files : 25000\n",
            "Label :  1\n",
            "Context :  Maria Braun is an extraordinary woman presented fully and very credibly, despite being so obtuse as to border on implausibility. She will do everything to make her marriage work, including shameless opportunism and sexual manipulation. And thus beneath the vicey exterior, she reveals a rather sweet value system. The film suffers from an abrupt and unexpected ending which afterwards feels wholly inadequate, with the convenience familiar from ending your school creative writing exercise with 'and then I woke up'. It is also book-ended at the other end with the most eccentric title sequence I've ever seen, but don't let any of that put you off.\n"
          ],
          "name": "stdout"
        }
      ]
    },
    {
      "metadata": {
        "id": "8weWK9ojPjI9",
        "colab_type": "text"
      },
      "cell_type": "markdown",
      "source": [
        "## Construct the Tokenizer from Training Data"
      ]
    },
    {
      "metadata": {
        "id": "d7fxozZmuCD5",
        "colab_type": "code",
        "colab": {
          "autoexec": {
            "startup": false,
            "wait_interval": 0
          },
          "output_extras": [
            {
              "item_id": 1
            }
          ],
          "base_uri": "https://localhost:8080/",
          "height": 34
        },
        "outputId": "b62c555f-6bc5-4f04-a528-85c3cb2e6111",
        "executionInfo": {
          "status": "ok",
          "timestamp": 1521639866086,
          "user_tz": -480,
          "elapsed": 5367,
          "user": {
            "displayName": "Kenny Hsieh",
            "photoUrl": "//lh6.googleusercontent.com/-cWWSIkjl7Eo/AAAAAAAAAAI/AAAAAAAA86s/jURqY4aeDO0/s50-c-k-no/photo.jpg",
            "userId": "106741566483718677044"
          }
        }
      },
      "cell_type": "code",
      "source": [
        "token = Tokenizer(num_words = 4000)\n",
        "token.fit_on_texts(train_text)\n",
        "\n",
        "print(token.document_count)\n",
        "#print(token.word_index)"
      ],
      "execution_count": 5,
      "outputs": [
        {
          "output_type": "stream",
          "text": [
            "25000\n"
          ],
          "name": "stdout"
        }
      ]
    },
    {
      "metadata": {
        "id": "SgAR7EunPOyM",
        "colab_type": "text"
      },
      "cell_type": "markdown",
      "source": [
        "## Tokenlize Text to Sequence"
      ]
    },
    {
      "metadata": {
        "id": "klh8GaKcuZlP",
        "colab_type": "code",
        "colab": {
          "autoexec": {
            "startup": false,
            "wait_interval": 0
          },
          "output_extras": [
            {
              "item_id": 1
            }
          ],
          "base_uri": "https://localhost:8080/",
          "height": 71
        },
        "outputId": "9b114d77-a6ba-47c8-dd03-648af610963c",
        "executionInfo": {
          "status": "ok",
          "timestamp": 1521639873788,
          "user_tz": -480,
          "elapsed": 7564,
          "user": {
            "displayName": "Kenny Hsieh",
            "photoUrl": "//lh6.googleusercontent.com/-cWWSIkjl7Eo/AAAAAAAAAAI/AAAAAAAA86s/jURqY4aeDO0/s50-c-k-no/photo.jpg",
            "userId": "106741566483718677044"
          }
        }
      },
      "cell_type": "code",
      "source": [
        "x_train_seq = token.texts_to_sequences(train_text)\n",
        "x_test_seq = token.texts_to_sequences(test_text)\n",
        "\n",
        "print(train_text[0])\n",
        "print(x_train_seq[0])"
      ],
      "execution_count": 6,
      "outputs": [
        {
          "output_type": "stream",
          "text": [
            "Maria Braun is an extraordinary woman presented fully and very credibly, despite being so obtuse as to border on implausibility. She will do everything to make her marriage work, including shameless opportunism and sexual manipulation. And thus beneath the vicey exterior, she reveals a rather sweet value system. The film suffers from an abrupt and unexpected ending which afterwards feels wholly inadequate, with the convenience familiar from ending your school creative writing exercise with 'and then I woke up'. It is also book-ended at the other end with the most eccentric title sequence I've ever seen, but don't let any of that put you off.\n",
            "[2902, 6, 31, 2797, 251, 1346, 1310, 2, 51, 462, 108, 34, 13, 5, 3604, 19, 55, 76, 78, 282, 5, 93, 37, 1338, 153, 582, 2, 860, 2, 1339, 1, 55, 2664, 3, 243, 1041, 1103, 1502, 1, 18, 2468, 35, 31, 2, 2067, 273, 59, 3491, 759, 15, 1, 1074, 35, 273, 125, 391, 1514, 483, 3457, 15, 91, 9, 8, 6, 77, 270, 1050, 29, 1, 81, 126, 15, 1, 87, 421, 716, 203, 122, 106, 17, 88, 383, 97, 4, 11, 272, 21, 121]\n"
          ],
          "name": "stdout"
        }
      ]
    },
    {
      "metadata": {
        "id": "TaRzn4NZPLhV",
        "colab_type": "text"
      },
      "cell_type": "markdown",
      "source": [
        "## Padding Sequence to Same Length"
      ]
    },
    {
      "metadata": {
        "id": "_jsdZsFLvFHm",
        "colab_type": "code",
        "colab": {
          "autoexec": {
            "startup": false,
            "wait_interval": 0
          },
          "output_extras": [
            {
              "item_id": 1
            }
          ],
          "base_uri": "https://localhost:8080/",
          "height": 51
        },
        "outputId": "7a2c637e-3785-4af4-f890-0d038721dfa5",
        "executionInfo": {
          "status": "ok",
          "timestamp": 1521639875430,
          "user_tz": -480,
          "elapsed": 1578,
          "user": {
            "displayName": "Kenny Hsieh",
            "photoUrl": "//lh6.googleusercontent.com/-cWWSIkjl7Eo/AAAAAAAAAAI/AAAAAAAA86s/jURqY4aeDO0/s50-c-k-no/photo.jpg",
            "userId": "106741566483718677044"
          }
        }
      },
      "cell_type": "code",
      "source": [
        "x_train = sequence.pad_sequences(x_train_seq, maxlen = 400)\n",
        "x_test = sequence.pad_sequences(x_test_seq, maxlen = 400)\n",
        "\n",
        "print(\"Before Padding : \", len(x_train_seq[0]))\n",
        "print(\"After Padding : \", len(x_train[0]))\n",
        "\n",
        "# Forward add 0 / delete exceed numeric "
      ],
      "execution_count": 7,
      "outputs": [
        {
          "output_type": "stream",
          "text": [
            "Before Padding :  88\n",
            "After Padding :  400\n"
          ],
          "name": "stdout"
        }
      ]
    },
    {
      "metadata": {
        "id": "f17Kt6DdOdon",
        "colab_type": "text"
      },
      "cell_type": "markdown",
      "source": [
        "## Multilayer Perceptron (MLP)"
      ]
    },
    {
      "metadata": {
        "id": "2Plfxauavxx7",
        "colab_type": "code",
        "colab": {
          "autoexec": {
            "startup": false,
            "wait_interval": 0
          },
          "output_extras": [
            {
              "item_id": 1
            }
          ],
          "base_uri": "https://localhost:8080/",
          "height": 357
        },
        "outputId": "498137eb-bb07-4991-9a83-fd31246f4189",
        "executionInfo": {
          "status": "ok",
          "timestamp": 1521639876224,
          "user_tz": -480,
          "elapsed": 758,
          "user": {
            "displayName": "Kenny Hsieh",
            "photoUrl": "//lh6.googleusercontent.com/-cWWSIkjl7Eo/AAAAAAAAAAI/AAAAAAAA86s/jURqY4aeDO0/s50-c-k-no/photo.jpg",
            "userId": "106741566483718677044"
          }
        }
      },
      "cell_type": "code",
      "source": [
        "from keras.models import Sequential\n",
        "from keras.layers.core import Dense, Dropout, Activation, Flatten\n",
        "from keras.layers.embeddings import Embedding # Numeric list to Vector list\n",
        "\n",
        "model = Sequential()\n",
        "model.add(Embedding(output_dim = 32,\n",
        "                   input_dim = 4000,\n",
        "                   input_length = 400))\n",
        "model.add(Dropout(0.2))\n",
        "\n",
        "model.add(Flatten())\n",
        "model.add(Dense(units = 256,\n",
        "               activation = 'relu'))\n",
        "model.add(Dropout(0.35))\n",
        "\n",
        "model.add(Dense(units = 1,\n",
        "               activation = 'sigmoid'))\n",
        "\n",
        "print(model.summary())"
      ],
      "execution_count": 8,
      "outputs": [
        {
          "output_type": "stream",
          "text": [
            "_________________________________________________________________\n",
            "Layer (type)                 Output Shape              Param #   \n",
            "=================================================================\n",
            "embedding_1 (Embedding)      (None, 400, 32)           128000    \n",
            "_________________________________________________________________\n",
            "dropout_1 (Dropout)          (None, 400, 32)           0         \n",
            "_________________________________________________________________\n",
            "flatten_1 (Flatten)          (None, 12800)             0         \n",
            "_________________________________________________________________\n",
            "dense_1 (Dense)              (None, 256)               3277056   \n",
            "_________________________________________________________________\n",
            "dropout_2 (Dropout)          (None, 256)               0         \n",
            "_________________________________________________________________\n",
            "dense_2 (Dense)              (None, 1)                 257       \n",
            "=================================================================\n",
            "Total params: 3,405,313\n",
            "Trainable params: 3,405,313\n",
            "Non-trainable params: 0\n",
            "_________________________________________________________________\n",
            "None\n"
          ],
          "name": "stdout"
        }
      ]
    },
    {
      "metadata": {
        "id": "4yzWeB7Txiyz",
        "colab_type": "code",
        "colab": {
          "autoexec": {
            "startup": false,
            "wait_interval": 0
          },
          "output_extras": [
            {
              "item_id": 8
            },
            {
              "item_id": 9
            }
          ],
          "base_uri": "https://localhost:8080/",
          "height": 374
        },
        "outputId": "6af59d05-15ae-47c0-eb27-d3d0106445c2",
        "executionInfo": {
          "status": "ok",
          "timestamp": 1521639904282,
          "user_tz": -480,
          "elapsed": 27729,
          "user": {
            "displayName": "Kenny Hsieh",
            "photoUrl": "//lh6.googleusercontent.com/-cWWSIkjl7Eo/AAAAAAAAAAI/AAAAAAAA86s/jURqY4aeDO0/s50-c-k-no/photo.jpg",
            "userId": "106741566483718677044"
          }
        }
      },
      "cell_type": "code",
      "source": [
        "model.compile(loss = 'binary_crossentropy',\n",
        "             optimizer = 'adam',\n",
        "             metrics = ['accuracy'])\n",
        "\n",
        "train_history = model.fit(x_train, y_train,\n",
        "                          validation_split = 0.2,\n",
        "                         batch_size = 100,\n",
        "                         epochs = 10)"
      ],
      "execution_count": 9,
      "outputs": [
        {
          "output_type": "stream",
          "text": [
            "Train on 20000 samples, validate on 5000 samples\n",
            "Epoch 1/10\n",
            "20000/20000 [==============================] - 4s 178us/step - loss: 0.4533 - acc: 0.7702 - val_loss: 0.4994 - val_acc: 0.7766\n",
            "Epoch 2/10\n",
            "20000/20000 [==============================] - 3s 129us/step - loss: 0.1819 - acc: 0.9312 - val_loss: 0.4331 - val_acc: 0.8242\n",
            "Epoch 3/10\n",
            "20000/20000 [==============================] - 3s 126us/step - loss: 0.0703 - acc: 0.9780 - val_loss: 0.6609 - val_acc: 0.7834\n",
            "Epoch 4/10\n",
            "20000/20000 [==============================] - 3s 127us/step - loss: 0.0260 - acc: 0.9927 - val_loss: 0.9173 - val_acc: 0.7658\n",
            "Epoch 5/10\n",
            "20000/20000 [==============================] - 3s 126us/step - loss: 0.0131 - acc: 0.9964 - val_loss: 0.9863 - val_acc: 0.7820\n",
            "Epoch 6/10\n",
            " 5400/20000 [=======>......................] - ETA: 1s - loss: 0.0082 - acc: 0.9981"
          ],
          "name": "stdout"
        },
        {
          "output_type": "stream",
          "text": [
            "20000/20000 [==============================] - 3s 126us/step - loss: 0.0079 - acc: 0.9981 - val_loss: 1.1661 - val_acc: 0.7760\n",
            "Epoch 7/10\n",
            "20000/20000 [==============================] - 3s 127us/step - loss: 0.0077 - acc: 0.9976 - val_loss: 1.0887 - val_acc: 0.7934\n",
            "Epoch 8/10\n",
            "20000/20000 [==============================] - 3s 128us/step - loss: 0.0113 - acc: 0.9957 - val_loss: 1.3200 - val_acc: 0.7726\n",
            "Epoch 9/10\n",
            "20000/20000 [==============================] - 3s 129us/step - loss: 0.0143 - acc: 0.9955 - val_loss: 1.3884 - val_acc: 0.7626\n",
            "Epoch 10/10\n",
            "20000/20000 [==============================] - 3s 129us/step - loss: 0.0172 - acc: 0.9933 - val_loss: 1.1109 - val_acc: 0.7826\n"
          ],
          "name": "stdout"
        }
      ]
    },
    {
      "metadata": {
        "id": "D8jpxp0syBYQ",
        "colab_type": "code",
        "colab": {
          "autoexec": {
            "startup": false,
            "wait_interval": 0
          },
          "output_extras": [
            {
              "item_id": 8
            },
            {
              "item_id": 9
            }
          ],
          "base_uri": "https://localhost:8080/",
          "height": 51
        },
        "outputId": "b91d84f0-2e83-43ae-b20d-1d651bee6110",
        "executionInfo": {
          "status": "ok",
          "timestamp": 1521639907300,
          "user_tz": -480,
          "elapsed": 2972,
          "user": {
            "displayName": "Kenny Hsieh",
            "photoUrl": "//lh6.googleusercontent.com/-cWWSIkjl7Eo/AAAAAAAAAAI/AAAAAAAA86s/jURqY4aeDO0/s50-c-k-no/photo.jpg",
            "userId": "106741566483718677044"
          }
        }
      },
      "cell_type": "code",
      "source": [
        "scores = model.evaluate(x_test, y_test, verbose = 1)\n",
        "scores[1]"
      ],
      "execution_count": 10,
      "outputs": [
        {
          "output_type": "stream",
          "text": [
            "25000/25000 [==============================] - 2s 92us/step\n"
          ],
          "name": "stdout"
        },
        {
          "output_type": "execute_result",
          "data": {
            "text/plain": [
              "0.84156"
            ]
          },
          "metadata": {
            "tags": []
          },
          "execution_count": 10
        }
      ]
    },
    {
      "metadata": {
        "id": "VZsbNxISyLXS",
        "colab_type": "code",
        "colab": {
          "autoexec": {
            "startup": false,
            "wait_interval": 0
          },
          "output_extras": [
            {
              "item_id": 1
            }
          ],
          "base_uri": "https://localhost:8080/",
          "height": 34
        },
        "outputId": "dfaadb18-d0ce-40fb-984c-66de16ea3fd5",
        "executionInfo": {
          "status": "ok",
          "timestamp": 1521639909900,
          "user_tz": -480,
          "elapsed": 2564,
          "user": {
            "displayName": "Kenny Hsieh",
            "photoUrl": "//lh6.googleusercontent.com/-cWWSIkjl7Eo/AAAAAAAAAAI/AAAAAAAA86s/jURqY4aeDO0/s50-c-k-no/photo.jpg",
            "userId": "106741566483718677044"
          }
        }
      },
      "cell_type": "code",
      "source": [
        "predict = model.predict_classes(x_test)\n",
        "predict_classes = predict.reshape(-1)\n",
        "predict_classes[:10]"
      ],
      "execution_count": 11,
      "outputs": [
        {
          "output_type": "execute_result",
          "data": {
            "text/plain": [
              "array([1, 1, 1, 1, 0, 1, 1, 1, 1, 1], dtype=int32)"
            ]
          },
          "metadata": {
            "tags": []
          },
          "execution_count": 11
        }
      ]
    },
    {
      "metadata": {
        "id": "F6tgqgjuQx-B",
        "colab_type": "text"
      },
      "cell_type": "markdown",
      "source": [
        "## Observe the Specific Commits with Actual & Predict Label"
      ]
    },
    {
      "metadata": {
        "id": "XMia05jKybuu",
        "colab_type": "code",
        "colab": {
          "autoexec": {
            "startup": false,
            "wait_interval": 0
          },
          "output_extras": [
            {
              "item_id": 1
            }
          ],
          "base_uri": "https://localhost:8080/",
          "height": 88
        },
        "outputId": "08e7e9bb-a62c-47b5-8b09-650bd7f2301f",
        "executionInfo": {
          "status": "ok",
          "timestamp": 1521639910589,
          "user_tz": -480,
          "elapsed": 656,
          "user": {
            "displayName": "Kenny Hsieh",
            "photoUrl": "//lh6.googleusercontent.com/-cWWSIkjl7Eo/AAAAAAAAAAI/AAAAAAAA86s/jURqY4aeDO0/s50-c-k-no/photo.jpg",
            "userId": "106741566483718677044"
          }
        }
      },
      "cell_type": "code",
      "source": [
        "Sentiment_dict = {1 : 'Pos', 0 : 'Neg'}\n",
        "def display_test_sentiment(i):\n",
        "  print(test_text[i])\n",
        "  print('Actual Answer : ', Sentiment_dict[y_test[i]])\n",
        "  print('Predict Answer : ', Sentiment_dict[predict_classes[i]])\n",
        "  \n",
        "display_test_sentiment(2)"
      ],
      "execution_count": 12,
      "outputs": [
        {
          "output_type": "stream",
          "text": [
            "I've watched this movie on a fairly regular basis for most of my life, and it never gets old. For all the snide remarks and insults (mostly from David Spade), \"Tommy Boy\" has a giant heart. And that's what keeps this movie funny after all these years.Tommy Callahan (Chris Farley) is the son of Big Tom Callahan (Brian Dennehy), master car parts salesman, and has ridden on that all his life. But after his died dies on his wedding day, Tommy learns that the company is in debt, and about to be bought by Ray Zalinsky (Dan Akroyd), the owner of a huge car parts company. So in order to save the company, Tommy has to go on the road to sell the company's new brake pads. Along for the ride, though not by choice, is Richard Hayden (David Spade) a former classmate of Tommy's who was Big Tom's right-hand man.The movie rides on the chemistry between the two SNL stars (and real-life best friends) Chris Farley and David Spade. The duo has enough comic energy going between them to power the world. It's the big, dumb guy versus the smart little guy. It works, and some of their scenes are unforgettably funny. Farley and Spade are actually decent dramatic actors as well. Although the film is primarily a comedy, it has its fair share of drama, but Spade and especially Farley are just as good there as when they're making the audience laugh.Forgive me, but I have to talk about Chris Farley a little more. I read his biography (\"The Chris Farley Show: A Biography in Three Acts,\" for anyone who cares), and understanding who Chris was in real life made this movie more special to me. Chris Farley was a genuinely good person who struggled, and ultimately failed to conquer his addictions. Although this was the first movie he had a major role in, it is his best film. It really showed who he was, and just how much talent he had. Knowing Chris's story adds another layer to this movie, although it doesn't make it any less funny.Farley and Spade are matched with a good on screen cast. Rob Lowe is suitably slimy as Tommy's \"new brother,\" and Bo Derek is solid as his step-mother. Brian Dennehy is great as Big Tom. Dennehy makes it easy to believe that they're father in son. Big Tom is just as crazy as his son, although he's smarter and more mature. Dan Akroyd gives one of his best performances as Zalinsky, giving Tommy the hard truth behind advertising. Julie Warner is also good as Tommy's love interest, Michelle.For me, Peter Segal is one of the great comedy directors. He keeps the pace quick and energetic, but most importantly, he knows how to make comedy funny. He doesn't belabor the jokes, and he understands that funny actors know what they're doing and he allows them to do it. But Segal goes a step further. He gives \"Tommy Boy\" a friendly, almost nostalgic tone that both tugs the heartstrings (genuinely) and tickles the funnybone.Critics didn't like \"Tommy Boy.\" Shame on them. A movie doesn't have to be super sophisticated or subversively intellectual to be funny (God forbid Farley and Spade were forced to do muted comedy a la \"The Office\"). This is a great movie and one of my all-time favorites.\n",
            "Actual Answer :  Pos\n",
            "Predict Answer :  Pos\n"
          ],
          "name": "stdout"
        }
      ]
    },
    {
      "metadata": {
        "id": "dhTQf6HPzOaD",
        "colab_type": "text"
      },
      "cell_type": "markdown",
      "source": [
        "## Check User Prompt Whether is Pos/Neg"
      ]
    },
    {
      "metadata": {
        "id": "nTZ5gBVOylTU",
        "colab_type": "code",
        "colab": {
          "autoexec": {
            "startup": false,
            "wait_interval": 0
          }
        }
      },
      "cell_type": "code",
      "source": [
        "def prompt_predict(input_text):\n",
        "  token_text = token.texts_to_sequences([input_text])\n",
        "  pad_text = sequence.pad_sequences(token_text, maxlen = 400)\n",
        "  predict_result = model.predict_classes(pad_text)\n",
        "  \n",
        "  print(\"This review sentiment is : \" + Sentiment_dict[predict_result[0][0]])"
      ],
      "execution_count": 0,
      "outputs": []
    },
    {
      "metadata": {
        "id": "j28IIO2X0llP",
        "colab_type": "code",
        "colab": {
          "autoexec": {
            "startup": false,
            "wait_interval": 0
          },
          "output_extras": [
            {
              "item_id": 1
            }
          ],
          "base_uri": "https://localhost:8080/",
          "height": 34
        },
        "outputId": "c3e77e7d-cfff-4726-a2cd-778674f07ff5",
        "executionInfo": {
          "status": "ok",
          "timestamp": 1521639912352,
          "user_tz": -480,
          "elapsed": 686,
          "user": {
            "displayName": "Kenny Hsieh",
            "photoUrl": "//lh6.googleusercontent.com/-cWWSIkjl7Eo/AAAAAAAAAAI/AAAAAAAA86s/jURqY4aeDO0/s50-c-k-no/photo.jpg",
            "userId": "106741566483718677044"
          }
        }
      },
      "cell_type": "code",
      "source": [
        "user_input = '''Featuring the very latest in computer generated effects and a plot that would insult a retarded six year old, Ironman is the latest in a long line of Hollywood product culled from the dizzying literary heights of superhero comic books.\n",
        "\n",
        "Product this disposable doesn't happen by accident. Teams of industry product makers work around the clock for years to make something this tasteless, tedious and utterly bland. Don't even try to characterize this product as a \"movie.\" It simply isn't.\n",
        "\n",
        "If Ironman was edible, it would be a jar of baby food. Library paste flavored baby food. If it were music, it would be chopsticks. If it were a vehicle, it would be a tricycle. A tricycle with training wheels. If it were...\n",
        "\n",
        "What? Oh yeah, the product. It's something about the usual gazillionaire playboy who flies around in a sooper-dooper extra-gadgety metal suit and frees Afghanistan from the Evil Brown People, making the country safe for, I dunno, oil companies I guess. The plot is such a pile of moronic sub-juvenile drivel it's impossible to focus on for more than a few minutes before being distracted by something more interesting like, say, the butter-flavored grease stains on the bottom of your popcorn bag.'''\n",
        "\n",
        "prompt_predict(user_input)"
      ],
      "execution_count": 14,
      "outputs": [
        {
          "output_type": "stream",
          "text": [
            "This review sentiment is : Neg\n"
          ],
          "name": "stdout"
        }
      ]
    },
    {
      "metadata": {
        "id": "cuES7Pqj4I4N",
        "colab_type": "text"
      },
      "cell_type": "markdown",
      "source": [
        "## Recurrent Neural Network (RNN)"
      ]
    },
    {
      "metadata": {
        "id": "XBYyc-YB4NnK",
        "colab_type": "code",
        "colab": {
          "autoexec": {
            "startup": false,
            "wait_interval": 0
          },
          "output_extras": [
            {
              "item_id": 1
            }
          ],
          "base_uri": "https://localhost:8080/",
          "height": 357
        },
        "outputId": "e3af4a6a-8a19-4e59-8dee-2c2041e9a6dd",
        "executionInfo": {
          "status": "ok",
          "timestamp": 1521639913210,
          "user_tz": -480,
          "elapsed": 530,
          "user": {
            "displayName": "Kenny Hsieh",
            "photoUrl": "//lh6.googleusercontent.com/-cWWSIkjl7Eo/AAAAAAAAAAI/AAAAAAAA86s/jURqY4aeDO0/s50-c-k-no/photo.jpg",
            "userId": "106741566483718677044"
          }
        }
      },
      "cell_type": "code",
      "source": [
        "from keras.models import Sequential\n",
        "from keras.layers.core import Dense, Dropout, Activation, Flatten\n",
        "from keras.layers.embeddings import Embedding\n",
        "from keras.layers.recurrent import SimpleRNN\n",
        "\n",
        "model = Sequential()\n",
        "model.add(Embedding(output_dim = 32,\n",
        "                   input_dim = 4000,\n",
        "                   input_length = 400))\n",
        "model.add(Dropout(0.2))\n",
        "\n",
        "model.add(SimpleRNN(units = 16))\n",
        "model.add(Dense(units = 256, activation = 'relu'))\n",
        "model.add(Dropout(0.35))\n",
        "\n",
        "model.add(Dense(units = 1, activation = 'sigmoid'))\n",
        "\n",
        "print(model.summary())"
      ],
      "execution_count": 15,
      "outputs": [
        {
          "output_type": "stream",
          "text": [
            "_________________________________________________________________\n",
            "Layer (type)                 Output Shape              Param #   \n",
            "=================================================================\n",
            "embedding_2 (Embedding)      (None, 400, 32)           128000    \n",
            "_________________________________________________________________\n",
            "dropout_3 (Dropout)          (None, 400, 32)           0         \n",
            "_________________________________________________________________\n",
            "simple_rnn_1 (SimpleRNN)     (None, 16)                784       \n",
            "_________________________________________________________________\n",
            "dense_3 (Dense)              (None, 256)               4352      \n",
            "_________________________________________________________________\n",
            "dropout_4 (Dropout)          (None, 256)               0         \n",
            "_________________________________________________________________\n",
            "dense_4 (Dense)              (None, 1)                 257       \n",
            "=================================================================\n",
            "Total params: 133,393\n",
            "Trainable params: 133,393\n",
            "Non-trainable params: 0\n",
            "_________________________________________________________________\n",
            "None\n"
          ],
          "name": "stdout"
        }
      ]
    },
    {
      "metadata": {
        "id": "3nnpp1tU5Go7",
        "colab_type": "code",
        "colab": {
          "autoexec": {
            "startup": false,
            "wait_interval": 0
          },
          "output_extras": [
            {
              "item_id": 8
            },
            {
              "item_id": 10
            },
            {
              "item_id": 12
            },
            {
              "item_id": 14
            },
            {
              "item_id": 16
            }
          ],
          "base_uri": "https://localhost:8080/",
          "height": 374
        },
        "outputId": "a7b40511-9fbe-44eb-e2f4-6e143505b754",
        "executionInfo": {
          "status": "ok",
          "timestamp": 1521640253534,
          "user_tz": -480,
          "elapsed": 339986,
          "user": {
            "displayName": "Kenny Hsieh",
            "photoUrl": "//lh6.googleusercontent.com/-cWWSIkjl7Eo/AAAAAAAAAAI/AAAAAAAA86s/jURqY4aeDO0/s50-c-k-no/photo.jpg",
            "userId": "106741566483718677044"
          }
        }
      },
      "cell_type": "code",
      "source": [
        "model.compile(loss = 'binary_crossentropy',\n",
        "             optimizer = 'adam',\n",
        "             metrics = ['accuracy'])\n",
        "\n",
        "train_history = model.fit(x_train, y_train,\n",
        "                          validation_split = 0.2,\n",
        "                         batch_size = 100,\n",
        "                         epochs = 10)"
      ],
      "execution_count": 16,
      "outputs": [
        {
          "output_type": "stream",
          "text": [
            "Train on 20000 samples, validate on 5000 samples\n",
            "Epoch 1/10\n",
            "20000/20000 [==============================] - 34s 2ms/step - loss: 0.4985 - acc: 0.7477 - val_loss: 0.3581 - val_acc: 0.8828\n",
            "Epoch 2/10\n",
            "20000/20000 [==============================] - 34s 2ms/step - loss: 0.3099 - acc: 0.8729 - val_loss: 0.4083 - val_acc: 0.8214\n",
            "Epoch 3/10\n",
            " 3500/20000 [====>.........................] - ETA: 26s - loss: 0.2493 - acc: 0.9066"
          ],
          "name": "stdout"
        },
        {
          "output_type": "stream",
          "text": [
            "20000/20000 [==============================] - 34s 2ms/step - loss: 0.2534 - acc: 0.9014 - val_loss: 0.5290 - val_acc: 0.7740\n",
            "Epoch 4/10\n",
            "20000/20000 [==============================] - 34s 2ms/step - loss: 0.1914 - acc: 0.9286 - val_loss: 0.4776 - val_acc: 0.8250\n",
            "Epoch 5/10\n",
            "11700/20000 [================>.............] - ETA: 13s - loss: 0.1366 - acc: 0.9513"
          ],
          "name": "stdout"
        },
        {
          "output_type": "stream",
          "text": [
            "20000/20000 [==============================] - 35s 2ms/step - loss: 0.1466 - acc: 0.9465 - val_loss: 0.7786 - val_acc: 0.7246\n",
            "Epoch 6/10\n",
            "20000/20000 [==============================] - 34s 2ms/step - loss: 0.1031 - acc: 0.9636 - val_loss: 0.7057 - val_acc: 0.7740\n",
            "Epoch 7/10\n",
            "13600/20000 [===================>..........] - ETA: 10s - loss: 0.0715 - acc: 0.9750"
          ],
          "name": "stdout"
        },
        {
          "output_type": "stream",
          "text": [
            "20000/20000 [==============================] - 33s 2ms/step - loss: 0.0756 - acc: 0.9732 - val_loss: 0.7699 - val_acc: 0.7986\n",
            "Epoch 8/10\n",
            "20000/20000 [==============================] - 34s 2ms/step - loss: 0.0538 - acc: 0.9806 - val_loss: 0.9039 - val_acc: 0.8086\n",
            "Epoch 9/10\n",
            "14000/20000 [====================>.........] - ETA: 9s - loss: 0.0627 - acc: 0.9777"
          ],
          "name": "stdout"
        },
        {
          "output_type": "stream",
          "text": [
            "20000/20000 [==============================] - 34s 2ms/step - loss: 0.0629 - acc: 0.9774 - val_loss: 0.8475 - val_acc: 0.7980\n",
            "Epoch 10/10\n",
            "20000/20000 [==============================] - 33s 2ms/step - loss: 0.0443 - acc: 0.9836 - val_loss: 0.9840 - val_acc: 0.7930\n"
          ],
          "name": "stdout"
        }
      ]
    },
    {
      "metadata": {
        "id": "VA9dYIpD5Avd",
        "colab_type": "code",
        "colab": {
          "autoexec": {
            "startup": false,
            "wait_interval": 0
          },
          "output_extras": [
            {
              "item_id": 8
            },
            {
              "item_id": 9
            }
          ],
          "base_uri": "https://localhost:8080/",
          "height": 51
        },
        "outputId": "66d699b8-8d69-4a6d-e368-915d5257cd96",
        "executionInfo": {
          "status": "ok",
          "timestamp": 1521640278821,
          "user_tz": -480,
          "elapsed": 25242,
          "user": {
            "displayName": "Kenny Hsieh",
            "photoUrl": "//lh6.googleusercontent.com/-cWWSIkjl7Eo/AAAAAAAAAAI/AAAAAAAA86s/jURqY4aeDO0/s50-c-k-no/photo.jpg",
            "userId": "106741566483718677044"
          }
        }
      },
      "cell_type": "code",
      "source": [
        "scores = model.evaluate(x_test, y_test, verbose = 1)\n",
        "scores[1]"
      ],
      "execution_count": 17,
      "outputs": [
        {
          "output_type": "stream",
          "text": [
            "25000/25000 [==============================] - 25s 989us/step\n"
          ],
          "name": "stdout"
        },
        {
          "output_type": "execute_result",
          "data": {
            "text/plain": [
              "0.8308"
            ]
          },
          "metadata": {
            "tags": []
          },
          "execution_count": 17
        }
      ]
    },
    {
      "metadata": {
        "id": "VEK6DCYJ5VMn",
        "colab_type": "text"
      },
      "cell_type": "markdown",
      "source": [
        "## Long Short-term Memory (LSTM)"
      ]
    },
    {
      "metadata": {
        "id": "HDA_CQTy5a-C",
        "colab_type": "code",
        "colab": {
          "autoexec": {
            "startup": false,
            "wait_interval": 0
          },
          "output_extras": [
            {
              "item_id": 1
            }
          ],
          "base_uri": "https://localhost:8080/",
          "height": 357
        },
        "outputId": "b8ba29da-b50b-4d99-e08c-204eecf0bd19",
        "executionInfo": {
          "status": "ok",
          "timestamp": 1521640279576,
          "user_tz": -480,
          "elapsed": 715,
          "user": {
            "displayName": "Kenny Hsieh",
            "photoUrl": "//lh6.googleusercontent.com/-cWWSIkjl7Eo/AAAAAAAAAAI/AAAAAAAA86s/jURqY4aeDO0/s50-c-k-no/photo.jpg",
            "userId": "106741566483718677044"
          }
        }
      },
      "cell_type": "code",
      "source": [
        "from keras.models import Sequential\n",
        "from keras.layers.core import Dense, Dropout, Activation, Flatten\n",
        "from keras.layers.embeddings import Embedding\n",
        "from keras.layers.recurrent import LSTM\n",
        "\n",
        "model = Sequential()\n",
        "model.add(Embedding(output_dim = 32,\n",
        "                   input_dim = 4000,\n",
        "                   input_length = 400))\n",
        "model.add(Dropout(0.2))\n",
        "\n",
        "model.add(LSTM(units = 32))\n",
        "model.add(Dense(units = 256, activation = 'relu'))\n",
        "model.add(Dropout(0.35))\n",
        "\n",
        "model.add(Dense(units = 1, activation = 'sigmoid'))\n",
        "\n",
        "print(model.summary())"
      ],
      "execution_count": 18,
      "outputs": [
        {
          "output_type": "stream",
          "text": [
            "_________________________________________________________________\n",
            "Layer (type)                 Output Shape              Param #   \n",
            "=================================================================\n",
            "embedding_3 (Embedding)      (None, 400, 32)           128000    \n",
            "_________________________________________________________________\n",
            "dropout_5 (Dropout)          (None, 400, 32)           0         \n",
            "_________________________________________________________________\n",
            "lstm_1 (LSTM)                (None, 32)                8320      \n",
            "_________________________________________________________________\n",
            "dense_5 (Dense)              (None, 256)               8448      \n",
            "_________________________________________________________________\n",
            "dropout_6 (Dropout)          (None, 256)               0         \n",
            "_________________________________________________________________\n",
            "dense_6 (Dense)              (None, 1)                 257       \n",
            "=================================================================\n",
            "Total params: 145,025\n",
            "Trainable params: 145,025\n",
            "Non-trainable params: 0\n",
            "_________________________________________________________________\n",
            "None\n"
          ],
          "name": "stdout"
        }
      ]
    },
    {
      "metadata": {
        "id": "gZMDPo0c5smJ",
        "colab_type": "code",
        "colab": {
          "autoexec": {
            "startup": false,
            "wait_interval": 0
          },
          "output_extras": [
            {
              "item_id": 206
            },
            {
              "item_id": 208
            },
            {
              "item_id": 209
            },
            {
              "item_id": 211
            },
            {
              "item_id": 212
            }
          ],
          "base_uri": "https://localhost:8080/",
          "height": 394
        },
        "outputId": "3a7e0dba-86cd-452f-8bd0-93629fb7a2ac",
        "executionInfo": {
          "status": "ok",
          "timestamp": 1521641594799,
          "user_tz": -480,
          "elapsed": 1314914,
          "user": {
            "displayName": "Kenny Hsieh",
            "photoUrl": "//lh6.googleusercontent.com/-cWWSIkjl7Eo/AAAAAAAAAAI/AAAAAAAA86s/jURqY4aeDO0/s50-c-k-no/photo.jpg",
            "userId": "106741566483718677044"
          }
        }
      },
      "cell_type": "code",
      "source": [
        "model.compile(loss = 'binary_crossentropy',\n",
        "             optimizer = 'adam',\n",
        "             metrics = ['accuracy'])\n",
        "\n",
        "train_history = model.fit(x_train, y_train,\n",
        "                          validation_split = 0.2,\n",
        "                          batch_size = 100,\n",
        "                          epochs = 10)"
      ],
      "execution_count": 19,
      "outputs": [
        {
          "output_type": "stream",
          "text": [
            "Train on 20000 samples, validate on 5000 samples\n",
            "Epoch 1/10\n",
            "20000/20000 [==============================] - 133s 7ms/step - loss: 0.4842 - acc: 0.7568 - val_loss: 0.3976 - val_acc: 0.8168\n",
            "Epoch 2/10\n",
            "20000/20000 [==============================] - 132s 7ms/step - loss: 0.2629 - acc: 0.8949 - val_loss: 0.4545 - val_acc: 0.7944\n",
            "Epoch 3/10\n",
            " 3300/20000 [===>..........................] - ETA: 1:43 - loss: 0.1902 - acc: 0.9321"
          ],
          "name": "stdout"
        },
        {
          "output_type": "stream",
          "text": [
            "20000/20000 [==============================] - 131s 7ms/step - loss: 0.2180 - acc: 0.9168 - val_loss: 0.4552 - val_acc: 0.7844\n",
            "Epoch 4/10\n",
            "20000/20000 [==============================] - 132s 7ms/step - loss: 0.1949 - acc: 0.9254 - val_loss: 0.5369 - val_acc: 0.7902\n",
            "Epoch 5/10\n",
            "11300/20000 [===============>..............] - ETA: 55s - loss: 0.1681 - acc: 0.9390"
          ],
          "name": "stdout"
        },
        {
          "output_type": "stream",
          "text": [
            "20000/20000 [==============================] - 133s 7ms/step - loss: 0.1768 - acc: 0.9336 - val_loss: 0.4181 - val_acc: 0.8220\n",
            "Epoch 6/10\n",
            "20000/20000 [==============================] - 133s 7ms/step - loss: 0.1584 - acc: 0.9405 - val_loss: 0.5354 - val_acc: 0.7956\n",
            "Epoch 7/10\n",
            "13200/20000 [==================>...........] - ETA: 43s - loss: 0.1354 - acc: 0.9511"
          ],
          "name": "stdout"
        },
        {
          "output_type": "stream",
          "text": [
            "20000/20000 [==============================] - 133s 7ms/step - loss: 0.1435 - acc: 0.9478 - val_loss: 0.4310 - val_acc: 0.8474\n",
            "Epoch 8/10\n",
            "20000/20000 [==============================] - 134s 7ms/step - loss: 0.1302 - acc: 0.9528 - val_loss: 0.3964 - val_acc: 0.8776\n",
            "Epoch 9/10\n",
            "13600/20000 [===================>..........] - ETA: 40s - loss: 0.1115 - acc: 0.9602"
          ],
          "name": "stdout"
        },
        {
          "output_type": "stream",
          "text": [
            "20000/20000 [==============================] - 133s 7ms/step - loss: 0.1162 - acc: 0.9577 - val_loss: 0.5590 - val_acc: 0.8428\n",
            "Epoch 10/10\n",
            "20000/20000 [==============================] - 133s 7ms/step - loss: 0.1140 - acc: 0.9593 - val_loss: 0.8553 - val_acc: 0.7328\n"
          ],
          "name": "stdout"
        }
      ]
    },
    {
      "metadata": {
        "id": "3AtuMapD5uQz",
        "colab_type": "code",
        "colab": {
          "autoexec": {
            "startup": false,
            "wait_interval": 0
          },
          "output_extras": [
            {
              "item_id": 40
            },
            {
              "item_id": 41
            }
          ],
          "base_uri": "https://localhost:8080/",
          "height": 51
        },
        "outputId": "6fbdf64b-d234-4bdf-d4bd-d81f11570f88",
        "executionInfo": {
          "status": "ok",
          "timestamp": 1521641696683,
          "user_tz": -480,
          "elapsed": 101800,
          "user": {
            "displayName": "Kenny Hsieh",
            "photoUrl": "//lh6.googleusercontent.com/-cWWSIkjl7Eo/AAAAAAAAAAI/AAAAAAAA86s/jURqY4aeDO0/s50-c-k-no/photo.jpg",
            "userId": "106741566483718677044"
          }
        }
      },
      "cell_type": "code",
      "source": [
        "scores = model.evaluate(x_test, y_test, verbose = 1)\n",
        "scores[1]"
      ],
      "execution_count": 20,
      "outputs": [
        {
          "output_type": "stream",
          "text": [
            "25000/25000 [==============================] - 101s 4ms/step\n"
          ],
          "name": "stdout"
        },
        {
          "output_type": "execute_result",
          "data": {
            "text/plain": [
              "0.83332"
            ]
          },
          "metadata": {
            "tags": []
          },
          "execution_count": 20
        }
      ]
    }
  ]
}